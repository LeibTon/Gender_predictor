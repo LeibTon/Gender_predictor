{
  "nbformat": 4,
  "nbformat_minor": 0,
  "metadata": {
    "colab": {
      "name": "Gender_Predictor.ipynb",
      "provenance": [],
      "authorship_tag": "ABX9TyO2/xWwPvx5z+ghim4apJZx",
      "include_colab_link": true
    },
    "kernelspec": {
      "name": "python3",
      "display_name": "Python 3"
    }
  },
  "cells": [
    {
      "cell_type": "markdown",
      "metadata": {
        "id": "view-in-github",
        "colab_type": "text"
      },
      "source": [
        "<a href=\"https://colab.research.google.com/github/prakashaditya369/Gender_predictor/blob/master/Gender_Predictor.ipynb\" target=\"_parent\"><img src=\"https://colab.research.google.com/assets/colab-badge.svg\" alt=\"Open In Colab\"/></a>"
      ]
    },
    {
      "cell_type": "markdown",
      "metadata": {
        "id": "yiWVbM-QWPMm"
      },
      "source": [
        "## Importing Libraries"
      ]
    },
    {
      "cell_type": "code",
      "metadata": {
        "id": "_u7kxRgOu9I1"
      },
      "source": [
        "import tensorflow as tf\n",
        "import numpy as np"
      ],
      "execution_count": 1,
      "outputs": []
    },
    {
      "cell_type": "markdown",
      "metadata": {
        "id": "4m10EuofWS8F"
      },
      "source": [
        "## Importing Data files."
      ]
    },
    {
      "cell_type": "code",
      "metadata": {
        "id": "8utkvxAzu_yI"
      },
      "source": [
        "boy = open(\"/content/sample_data/hindu_boys_name.txt\",'r')\n",
        "boys = boy.readlines()\n",
        "girl = open(\"/content/sample_data/hindu_girls_name.txt\",'r')\n",
        "girls = girl.readlines()"
      ],
      "execution_count": 3,
      "outputs": []
    },
    {
      "cell_type": "code",
      "metadata": {
        "id": "H78hqWVXxm9V"
      },
      "source": [
        "char_to_index = {}\n",
        "l1 = ['','a','b','c','d','e','f','g','h','i','j','k','l','m','n','o','p','q','r','s','t','u','v','w','x','y','z']\n",
        "for i in range(len(l1)):\n",
        "  char_to_index[l1[i]]=i"
      ],
      "execution_count": 4,
      "outputs": []
    },
    {
      "cell_type": "code",
      "metadata": {
        "id": "pwg3dzxd5AS2"
      },
      "source": [
        "index_to_char = {}\n",
        "for key,values in char_to_index.items():\n",
        "  index_to_char[values] = key"
      ],
      "execution_count": 5,
      "outputs": []
    },
    {
      "cell_type": "code",
      "metadata": {
        "id": "dxKzVj6lzc0X"
      },
      "source": [
        "names = []\n",
        "gender = []\n",
        "for i in boys:\n",
        "  num = [0.0 for i in range(20)]\n",
        "  for k in range(len(i[:-1])):\n",
        "    num[k] = float(char_to_index[i[k]])\n",
        "  gender.append(1.0)\n",
        "  names.append(num)\n",
        "for i in girls:\n",
        "  num = [0.0 for i in range(20)]\n",
        "  for k in range(len(i[:-1])):\n",
        "    num[k] = float(char_to_index[i[k]])\n",
        "  gender.append(0.0)\n",
        "  names.append(num)\n",
        "gender = np.array(gender,dtype = float)\n",
        "names = np.array(names,dtype = float)"
      ],
      "execution_count": 6,
      "outputs": []
    },
    {
      "cell_type": "code",
      "metadata": {
        "id": "JF0YrpU_07VW"
      },
      "source": [
        "rand = np.random.permutation(4553)"
      ],
      "execution_count": 7,
      "outputs": []
    },
    {
      "cell_type": "code",
      "metadata": {
        "id": "QQ3SssAE1aEW"
      },
      "source": [
        "names = names[rand]\n",
        "gender = gender[rand]"
      ],
      "execution_count": 8,
      "outputs": []
    },
    {
      "cell_type": "code",
      "metadata": {
        "id": "fGxdodnk4BHZ",
        "colab": {
          "base_uri": "https://localhost:8080/"
        },
        "outputId": "cfe9e91f-5b77-43e4-c182-46ae4c0260b7"
      },
      "source": [
        "name = names[-1]\n",
        "for i in name:\n",
        "  print(index_to_char[int(i)],end = '')"
      ],
      "execution_count": 9,
      "outputs": [
        {
          "output_type": "stream",
          "text": [
            "ranya"
          ],
          "name": "stdout"
        }
      ]
    },
    {
      "cell_type": "code",
      "metadata": {
        "id": "kmwd2GgA_obG"
      },
      "source": [
        "class myCallBack(tf.keras.callbacks.Callback):\n",
        "  def on_epoch_end(self,epoch,logs = {}):\n",
        "    if logs.get('accuracy')>0.99:\n",
        "      self.model.stop_training = True"
      ],
      "execution_count": 11,
      "outputs": []
    },
    {
      "cell_type": "markdown",
      "metadata": {
        "id": "i9YnYoSuXFfQ"
      },
      "source": [
        "## Model"
      ]
    },
    {
      "cell_type": "code",
      "metadata": {
        "id": "Y6pzNQSKvV-y"
      },
      "source": [
        "model = tf.keras.Sequential([\n",
        "    tf.keras.layers.Embedding(27,1,input_length = 20),\n",
        "    tf.keras.layers.Bidirectional(tf.keras.layers.LSTM(100,return_sequences=True)),\n",
        "    tf.keras.layers.Dropout(0.5),\n",
        "    tf.keras.layers.LSTM(64),\n",
        "    tf.keras.layers.Dense(120,activation='relu'),\n",
        "    tf.keras.layers.Dense(1, activation='sigmoid')\n",
        "])"
      ],
      "execution_count": 12,
      "outputs": []
    },
    {
      "cell_type": "code",
      "metadata": {
        "id": "Dn45WzlCvqeo"
      },
      "source": [
        "model.compile(loss='binary_crossentropy', optimizer='adam', metrics=['accuracy'])"
      ],
      "execution_count": 13,
      "outputs": []
    },
    {
      "cell_type": "code",
      "metadata": {
        "id": "aAZt7xynvyYD",
        "colab": {
          "base_uri": "https://localhost:8080/"
        },
        "outputId": "831d45c5-7bdd-4a38-bcd0-a9509bfae321"
      },
      "source": [
        " history = model.fit(names,gender, epochs=100, verbose=1,callbacks = [myCallBack()])"
      ],
      "execution_count": 14,
      "outputs": [
        {
          "output_type": "stream",
          "text": [
            "Epoch 1/100\n",
            "143/143 [==============================] - 11s 39ms/step - loss: 0.6528 - accuracy: 0.6512\n",
            "Epoch 2/100\n",
            "143/143 [==============================] - 6s 39ms/step - loss: 0.6445 - accuracy: 0.6528\n",
            "Epoch 3/100\n",
            "143/143 [==============================] - 6s 39ms/step - loss: 0.5759 - accuracy: 0.6958\n",
            "Epoch 4/100\n",
            "143/143 [==============================] - 6s 39ms/step - loss: 0.4818 - accuracy: 0.7718\n",
            "Epoch 5/100\n",
            "143/143 [==============================] - 6s 39ms/step - loss: 0.4068 - accuracy: 0.8219\n",
            "Epoch 6/100\n",
            "143/143 [==============================] - 6s 38ms/step - loss: 0.3664 - accuracy: 0.8504\n",
            "Epoch 7/100\n",
            "143/143 [==============================] - 6s 39ms/step - loss: 0.3521 - accuracy: 0.8568\n",
            "Epoch 8/100\n",
            "143/143 [==============================] - 6s 39ms/step - loss: 0.3451 - accuracy: 0.8627\n",
            "Epoch 9/100\n",
            "143/143 [==============================] - 6s 39ms/step - loss: 0.3431 - accuracy: 0.8616\n",
            "Epoch 10/100\n",
            "143/143 [==============================] - 6s 39ms/step - loss: 0.3436 - accuracy: 0.8610\n",
            "Epoch 11/100\n",
            "143/143 [==============================] - 6s 39ms/step - loss: 0.3373 - accuracy: 0.8662\n",
            "Epoch 12/100\n",
            "143/143 [==============================] - 6s 39ms/step - loss: 0.3331 - accuracy: 0.8665\n",
            "Epoch 13/100\n",
            "143/143 [==============================] - 6s 39ms/step - loss: 0.3356 - accuracy: 0.8651\n",
            "Epoch 14/100\n",
            "143/143 [==============================] - 6s 39ms/step - loss: 0.3285 - accuracy: 0.8680\n",
            "Epoch 15/100\n",
            "143/143 [==============================] - 6s 38ms/step - loss: 0.3266 - accuracy: 0.8667\n",
            "Epoch 16/100\n",
            "143/143 [==============================] - 6s 38ms/step - loss: 0.3248 - accuracy: 0.8706\n",
            "Epoch 17/100\n",
            "143/143 [==============================] - 6s 39ms/step - loss: 0.3246 - accuracy: 0.8687\n",
            "Epoch 18/100\n",
            "143/143 [==============================] - 6s 39ms/step - loss: 0.3267 - accuracy: 0.8695\n",
            "Epoch 19/100\n",
            "143/143 [==============================] - 6s 39ms/step - loss: 0.3242 - accuracy: 0.8720\n",
            "Epoch 20/100\n",
            "143/143 [==============================] - 5s 38ms/step - loss: 0.3240 - accuracy: 0.8706\n",
            "Epoch 21/100\n",
            "143/143 [==============================] - 6s 39ms/step - loss: 0.3207 - accuracy: 0.8717\n",
            "Epoch 22/100\n",
            "143/143 [==============================] - 6s 39ms/step - loss: 0.3233 - accuracy: 0.8715\n",
            "Epoch 23/100\n",
            "143/143 [==============================] - 6s 39ms/step - loss: 0.3213 - accuracy: 0.8722\n",
            "Epoch 24/100\n",
            "143/143 [==============================] - 6s 39ms/step - loss: 0.3230 - accuracy: 0.8702\n",
            "Epoch 25/100\n",
            "143/143 [==============================] - 5s 38ms/step - loss: 0.3239 - accuracy: 0.8702\n",
            "Epoch 26/100\n",
            "143/143 [==============================] - 6s 39ms/step - loss: 0.3225 - accuracy: 0.8713\n",
            "Epoch 27/100\n",
            "143/143 [==============================] - 6s 39ms/step - loss: 0.3209 - accuracy: 0.8731\n",
            "Epoch 28/100\n",
            "143/143 [==============================] - 6s 39ms/step - loss: 0.3188 - accuracy: 0.8720\n",
            "Epoch 29/100\n",
            "143/143 [==============================] - 6s 39ms/step - loss: 0.3205 - accuracy: 0.8720\n",
            "Epoch 30/100\n",
            "143/143 [==============================] - 6s 39ms/step - loss: 0.3155 - accuracy: 0.8717\n",
            "Epoch 31/100\n",
            "143/143 [==============================] - 6s 39ms/step - loss: 0.3165 - accuracy: 0.8731\n",
            "Epoch 32/100\n",
            "143/143 [==============================] - 6s 40ms/step - loss: 0.3197 - accuracy: 0.8709\n",
            "Epoch 33/100\n",
            "143/143 [==============================] - 6s 39ms/step - loss: 0.3156 - accuracy: 0.8726\n",
            "Epoch 34/100\n",
            "143/143 [==============================] - 6s 39ms/step - loss: 0.3169 - accuracy: 0.8717\n",
            "Epoch 35/100\n",
            "143/143 [==============================] - 6s 39ms/step - loss: 0.3141 - accuracy: 0.8728\n",
            "Epoch 36/100\n",
            "143/143 [==============================] - 6s 39ms/step - loss: 0.3153 - accuracy: 0.8755\n",
            "Epoch 37/100\n",
            "143/143 [==============================] - 6s 39ms/step - loss: 0.3146 - accuracy: 0.8717\n",
            "Epoch 38/100\n",
            "143/143 [==============================] - 6s 39ms/step - loss: 0.3163 - accuracy: 0.8726\n",
            "Epoch 39/100\n",
            "143/143 [==============================] - 6s 39ms/step - loss: 0.3137 - accuracy: 0.8735\n",
            "Epoch 40/100\n",
            "143/143 [==============================] - 6s 39ms/step - loss: 0.3143 - accuracy: 0.8759\n",
            "Epoch 41/100\n",
            "143/143 [==============================] - 6s 38ms/step - loss: 0.3084 - accuracy: 0.8759\n",
            "Epoch 42/100\n",
            "143/143 [==============================] - 6s 39ms/step - loss: 0.3100 - accuracy: 0.8750\n",
            "Epoch 43/100\n",
            "143/143 [==============================] - 6s 39ms/step - loss: 0.3093 - accuracy: 0.8752\n",
            "Epoch 44/100\n",
            "143/143 [==============================] - 6s 39ms/step - loss: 0.3080 - accuracy: 0.8761\n",
            "Epoch 45/100\n",
            "143/143 [==============================] - 6s 39ms/step - loss: 0.3065 - accuracy: 0.8774\n",
            "Epoch 46/100\n",
            "143/143 [==============================] - 6s 39ms/step - loss: 0.3071 - accuracy: 0.8755\n",
            "Epoch 47/100\n",
            "143/143 [==============================] - 6s 39ms/step - loss: 0.3061 - accuracy: 0.8772\n",
            "Epoch 48/100\n",
            "143/143 [==============================] - 6s 39ms/step - loss: 0.3108 - accuracy: 0.8728\n",
            "Epoch 49/100\n",
            "143/143 [==============================] - 6s 39ms/step - loss: 0.3037 - accuracy: 0.8785\n",
            "Epoch 50/100\n",
            "143/143 [==============================] - 6s 39ms/step - loss: 0.3047 - accuracy: 0.8757\n",
            "Epoch 51/100\n",
            "143/143 [==============================] - 6s 39ms/step - loss: 0.3032 - accuracy: 0.8792\n",
            "Epoch 52/100\n",
            "143/143 [==============================] - 6s 39ms/step - loss: 0.3060 - accuracy: 0.8772\n",
            "Epoch 53/100\n",
            "143/143 [==============================] - 6s 39ms/step - loss: 0.3018 - accuracy: 0.8770\n",
            "Epoch 54/100\n",
            "143/143 [==============================] - 6s 39ms/step - loss: 0.3009 - accuracy: 0.8781\n",
            "Epoch 55/100\n",
            "143/143 [==============================] - 6s 39ms/step - loss: 0.3047 - accuracy: 0.8744\n",
            "Epoch 56/100\n",
            "143/143 [==============================] - 6s 39ms/step - loss: 0.2979 - accuracy: 0.8777\n",
            "Epoch 57/100\n",
            "143/143 [==============================] - 6s 39ms/step - loss: 0.2994 - accuracy: 0.8788\n",
            "Epoch 58/100\n",
            "143/143 [==============================] - 6s 39ms/step - loss: 0.2966 - accuracy: 0.8790\n",
            "Epoch 59/100\n",
            "143/143 [==============================] - 6s 39ms/step - loss: 0.2987 - accuracy: 0.8750\n",
            "Epoch 60/100\n",
            "143/143 [==============================] - 6s 39ms/step - loss: 0.2949 - accuracy: 0.8794\n",
            "Epoch 61/100\n",
            "143/143 [==============================] - 6s 39ms/step - loss: 0.2925 - accuracy: 0.8799\n",
            "Epoch 62/100\n",
            "143/143 [==============================] - 6s 39ms/step - loss: 0.2944 - accuracy: 0.8807\n",
            "Epoch 63/100\n",
            "143/143 [==============================] - 6s 39ms/step - loss: 0.2904 - accuracy: 0.8810\n",
            "Epoch 64/100\n",
            "143/143 [==============================] - 6s 39ms/step - loss: 0.2882 - accuracy: 0.8801\n",
            "Epoch 65/100\n",
            "143/143 [==============================] - 6s 39ms/step - loss: 0.2890 - accuracy: 0.8829\n",
            "Epoch 66/100\n",
            "143/143 [==============================] - 6s 39ms/step - loss: 0.2869 - accuracy: 0.8836\n",
            "Epoch 67/100\n",
            "143/143 [==============================] - 6s 39ms/step - loss: 0.2973 - accuracy: 0.8763\n",
            "Epoch 68/100\n",
            "143/143 [==============================] - 6s 39ms/step - loss: 0.2868 - accuracy: 0.8807\n",
            "Epoch 69/100\n",
            "143/143 [==============================] - 6s 40ms/step - loss: 0.2839 - accuracy: 0.8799\n",
            "Epoch 70/100\n",
            "143/143 [==============================] - 6s 40ms/step - loss: 0.2801 - accuracy: 0.8816\n",
            "Epoch 71/100\n",
            "143/143 [==============================] - 6s 39ms/step - loss: 0.2787 - accuracy: 0.8851\n",
            "Epoch 72/100\n",
            "143/143 [==============================] - 6s 39ms/step - loss: 0.2804 - accuracy: 0.8843\n",
            "Epoch 73/100\n",
            "143/143 [==============================] - 6s 39ms/step - loss: 0.2752 - accuracy: 0.8801\n",
            "Epoch 74/100\n",
            "143/143 [==============================] - 6s 39ms/step - loss: 0.2766 - accuracy: 0.8856\n",
            "Epoch 75/100\n",
            "143/143 [==============================] - 6s 39ms/step - loss: 0.2740 - accuracy: 0.8856\n",
            "Epoch 76/100\n",
            "143/143 [==============================] - 6s 39ms/step - loss: 0.2707 - accuracy: 0.8864\n",
            "Epoch 77/100\n",
            "143/143 [==============================] - 6s 39ms/step - loss: 0.2680 - accuracy: 0.8880\n",
            "Epoch 78/100\n",
            "143/143 [==============================] - 6s 40ms/step - loss: 0.2693 - accuracy: 0.8867\n",
            "Epoch 79/100\n",
            "143/143 [==============================] - 6s 40ms/step - loss: 0.2751 - accuracy: 0.8871\n",
            "Epoch 80/100\n",
            "143/143 [==============================] - 6s 40ms/step - loss: 0.2656 - accuracy: 0.8891\n",
            "Epoch 81/100\n",
            "143/143 [==============================] - 6s 39ms/step - loss: 0.2682 - accuracy: 0.8856\n",
            "Epoch 82/100\n",
            "143/143 [==============================] - 6s 39ms/step - loss: 0.2600 - accuracy: 0.8908\n",
            "Epoch 83/100\n",
            "143/143 [==============================] - 6s 39ms/step - loss: 0.2616 - accuracy: 0.8900\n",
            "Epoch 84/100\n",
            "143/143 [==============================] - 6s 39ms/step - loss: 0.2655 - accuracy: 0.8856\n",
            "Epoch 85/100\n",
            "143/143 [==============================] - 6s 40ms/step - loss: 0.2593 - accuracy: 0.8930\n",
            "Epoch 86/100\n",
            "143/143 [==============================] - 6s 39ms/step - loss: 0.2513 - accuracy: 0.8979\n",
            "Epoch 87/100\n",
            "143/143 [==============================] - 6s 39ms/step - loss: 0.2541 - accuracy: 0.8941\n",
            "Epoch 88/100\n",
            "143/143 [==============================] - 6s 39ms/step - loss: 0.2524 - accuracy: 0.8976\n",
            "Epoch 89/100\n",
            "143/143 [==============================] - 6s 39ms/step - loss: 0.2523 - accuracy: 0.8959\n",
            "Epoch 90/100\n",
            "143/143 [==============================] - 6s 39ms/step - loss: 0.2562 - accuracy: 0.8908\n",
            "Epoch 91/100\n",
            "143/143 [==============================] - 6s 39ms/step - loss: 0.2511 - accuracy: 0.8961\n",
            "Epoch 92/100\n",
            "143/143 [==============================] - 6s 39ms/step - loss: 0.2464 - accuracy: 0.9016\n",
            "Epoch 93/100\n",
            "143/143 [==============================] - 6s 39ms/step - loss: 0.2472 - accuracy: 0.8981\n",
            "Epoch 94/100\n",
            "143/143 [==============================] - 6s 39ms/step - loss: 0.2489 - accuracy: 0.8974\n",
            "Epoch 95/100\n",
            "143/143 [==============================] - 6s 39ms/step - loss: 0.2446 - accuracy: 0.8974\n",
            "Epoch 96/100\n",
            "143/143 [==============================] - 6s 39ms/step - loss: 0.2452 - accuracy: 0.9020\n",
            "Epoch 97/100\n",
            "143/143 [==============================] - 6s 39ms/step - loss: 0.2470 - accuracy: 0.8979\n",
            "Epoch 98/100\n",
            "143/143 [==============================] - 6s 40ms/step - loss: 0.2334 - accuracy: 0.9040\n",
            "Epoch 99/100\n",
            "143/143 [==============================] - 6s 40ms/step - loss: 0.2310 - accuracy: 0.9067\n",
            "Epoch 100/100\n",
            "143/143 [==============================] - 6s 39ms/step - loss: 0.2285 - accuracy: 0.9047\n"
          ],
          "name": "stdout"
        }
      ]
    },
    {
      "cell_type": "code",
      "metadata": {
        "id": "KiLIIfWtv1xC"
      },
      "source": [
        "def predictor(name,model):\n",
        "  name = name.lower()\n",
        "  num = np.zeros((20,))\n",
        "  j=0\n",
        "  for i in name:\n",
        "    num[j]=float(char_to_index[i])\n",
        "    j+=1\n",
        "  num = np.array([num])\n",
        "  prediction = model.predict(num)[0][0]\n",
        "  if(prediction>0.5):\n",
        "    return prediction,\"Male\"\n",
        "  else:\n",
        "    return prediction,\"Female\""
      ],
      "execution_count": 15,
      "outputs": []
    },
    {
      "cell_type": "code",
      "metadata": {
        "id": "pckXZc-5ES8C",
        "colab": {
          "base_uri": "https://localhost:8080/"
        },
        "outputId": "2e8ac58a-bab4-4af4-dabf-920a3b7c5f9f"
      },
      "source": [
        "names = ['AP','arjun','ananya','sonam','sohal','anshita', 'amisha', 'salman', 'jagdish', 'aditya', 'archit', 'bidhan', 'azhar', 'jesicca', 'johnny', 'ram', 'lakhan']\n",
        "for name in names:\n",
        "  predict,gender = predictor(name,model)\n",
        "  print(name.capitalize(),\"is a\",gender,\"name.\",end=\" | \")\n",
        "  print(\"Prediction:\",predict)"
      ],
      "execution_count": 16,
      "outputs": [
        {
          "output_type": "stream",
          "text": [
            "Ap is a Male name. | Prediction: 0.68927544\n",
            "Arjun is a Male name. | Prediction: 0.9617493\n",
            "Ananya is a Female name. | Prediction: 0.4445054\n",
            "Sonam is a Male name. | Prediction: 0.90388197\n",
            "Sohal is a Male name. | Prediction: 0.93381894\n",
            "Anshita is a Female name. | Prediction: 0.020775735\n",
            "Amisha is a Female name. | Prediction: 0.04405147\n",
            "Salman is a Male name. | Prediction: 0.94363177\n",
            "Jagdish is a Male name. | Prediction: 0.99922925\n",
            "Aditya is a Male name. | Prediction: 0.9266465\n",
            "Archit is a Male name. | Prediction: 0.9564622\n",
            "Bidhan is a Male name. | Prediction: 0.9251536\n",
            "Azhar is a Male name. | Prediction: 0.98485863\n",
            "Jesicca is a Female name. | Prediction: 0.057892382\n",
            "Johnny is a Male name. | Prediction: 0.8201932\n",
            "Ram is a Male name. | Prediction: 0.7771222\n",
            "Lakhan is a Male name. | Prediction: 0.9541757\n"
          ],
          "name": "stdout"
        }
      ]
    },
    {
      "cell_type": "code",
      "metadata": {
        "id": "hU-aA4fyXyiy"
      },
      "source": [
        ""
      ],
      "execution_count": null,
      "outputs": []
    }
  ]
}
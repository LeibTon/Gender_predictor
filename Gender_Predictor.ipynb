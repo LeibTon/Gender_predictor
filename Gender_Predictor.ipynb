{
  "nbformat": 4,
  "nbformat_minor": 0,
  "metadata": {
    "colab": {
      "name": "Gender_Predictor.ipynb",
      "provenance": [],
      "authorship_tag": "ABX9TyPrRORKE7tafd84c6w+bsya",
      "include_colab_link": true
    },
    "kernelspec": {
      "name": "python3",
      "display_name": "Python 3"
    }
  },
  "cells": [
    {
      "cell_type": "markdown",
      "metadata": {
        "id": "view-in-github",
        "colab_type": "text"
      },
      "source": [
        "<a href=\"https://colab.research.google.com/github/prakashaditya369/Gender_predictor/blob/master/Gender_Predictor.ipynb\" target=\"_parent\"><img src=\"https://colab.research.google.com/assets/colab-badge.svg\" alt=\"Open In Colab\"/></a>"
      ]
    },
    {
      "cell_type": "code",
      "metadata": {
        "id": "_u7kxRgOu9I1",
        "colab_type": "code",
        "colab": {}
      },
      "source": [
        "import tensorflow as tf\n",
        "import numpy as np"
      ],
      "execution_count": 0,
      "outputs": []
    },
    {
      "cell_type": "code",
      "metadata": {
        "id": "8utkvxAzu_yI",
        "colab_type": "code",
        "colab": {}
      },
      "source": [
        "boy = open(\"/content/sample_data/hindu_boys_name.txt\",'r')\n",
        "boys = boy.readlines()\n",
        "girl = open(\"/content/sample_data/hindu_girls_name.txt\",'r')\n",
        "girls = girl.readlines()"
      ],
      "execution_count": 0,
      "outputs": []
    },
    {
      "cell_type": "code",
      "metadata": {
        "id": "H78hqWVXxm9V",
        "colab_type": "code",
        "colab": {}
      },
      "source": [
        "char_to_index = {}\n",
        "l1 = ['','a','b','c','d','e','f','g','h','i','j','k','l','m','n','o','p','q','r','s','t','u','v','w','x','y','z']\n",
        "for i in range(len(l1)):\n",
        "  char_to_index[l1[i]]=i"
      ],
      "execution_count": 0,
      "outputs": []
    },
    {
      "cell_type": "code",
      "metadata": {
        "id": "pwg3dzxd5AS2",
        "colab_type": "code",
        "colab": {}
      },
      "source": [
        "index_to_char = {}\n",
        "for key,values in char_to_index.items():\n",
        "  index_to_char[values] = key"
      ],
      "execution_count": 0,
      "outputs": []
    },
    {
      "cell_type": "code",
      "metadata": {
        "id": "dxKzVj6lzc0X",
        "colab_type": "code",
        "colab": {}
      },
      "source": [
        "names = []\n",
        "gender = []\n",
        "for i in boys:\n",
        "  num = [0.0 for i in range(20)]\n",
        "  for k in range(len(i[:-1])):\n",
        "    num[k] = float(char_to_index[i[k]])\n",
        "  gender.append(1.0)\n",
        "  names.append(num)\n",
        "for i in girls:\n",
        "  num = [0.0 for i in range(20)]\n",
        "  for k in range(len(i[:-1])):\n",
        "    num[k] = float(char_to_index[i[k]])\n",
        "  gender.append(0.0)\n",
        "  names.append(num)\n",
        "gender = np.array(gender,dtype = float)\n",
        "names = np.array(names,dtype = float)"
      ],
      "execution_count": 0,
      "outputs": []
    },
    {
      "cell_type": "code",
      "metadata": {
        "id": "JF0YrpU_07VW",
        "colab_type": "code",
        "colab": {}
      },
      "source": [
        "rand = np.random.permutation(names.shape[0])"
      ],
      "execution_count": 0,
      "outputs": []
    },
    {
      "cell_type": "code",
      "metadata": {
        "id": "QQ3SssAE1aEW",
        "colab_type": "code",
        "colab": {}
      },
      "source": [
        "names = names[rand]\n",
        "gender = gender[rand]"
      ],
      "execution_count": 0,
      "outputs": []
    },
    {
      "cell_type": "code",
      "metadata": {
        "id": "fGxdodnk4BHZ",
        "colab_type": "code",
        "colab": {
          "base_uri": "https://localhost:8080/",
          "height": 34
        },
        "outputId": "9bda8da0-7170-4fcd-8b1c-461f3074ad1f"
      },
      "source": [
        "name = names[-1]\n",
        "for i in name:\n",
        "  print(index_to_char[int(i)],end = '')"
      ],
      "execution_count": 257,
      "outputs": [
        {
          "output_type": "stream",
          "text": [
            "suram"
          ],
          "name": "stdout"
        }
      ]
    },
    {
      "cell_type": "code",
      "metadata": {
        "id": "kmwd2GgA_obG",
        "colab_type": "code",
        "colab": {}
      },
      "source": [
        "class myCallBack(tf.keras.callbacks.Callback):\n",
        "  def on_epoch_end(self,epoch,logs = {}):\n",
        "    if logs.get('accuracy')>0.95:\n",
        "      self.model.stop_training = True"
      ],
      "execution_count": 0,
      "outputs": []
    },
    {
      "cell_type": "code",
      "metadata": {
        "id": "Y6pzNQSKvV-y",
        "colab_type": "code",
        "colab": {}
      },
      "source": [
        "model = tf.keras.Sequential([\n",
        "    tf.keras.layers.Embedding(27,1,input_length = 20),\n",
        "    tf.keras.layers.Bidirectional(tf.keras.layers.LSTM(100,return_sequences=True)),\n",
        "    tf.keras.layers.Dropout(0.5),\n",
        "    tf.keras.layers.LSTM(64),\n",
        "    tf.keras.layers.Dense(120,activation='relu'),\n",
        "    tf.keras.layers.Dense(1, activation='sigmoid')\n",
        "])"
      ],
      "execution_count": 0,
      "outputs": []
    },
    {
      "cell_type": "code",
      "metadata": {
        "id": "Dn45WzlCvqeo",
        "colab_type": "code",
        "colab": {}
      },
      "source": [
        "model.compile(loss='binary_crossentropy', optimizer='adam', metrics=['accuracy'])"
      ],
      "execution_count": 0,
      "outputs": []
    },
    {
      "cell_type": "code",
      "metadata": {
        "id": "aAZt7xynvyYD",
        "colab_type": "code",
        "outputId": "88aca5be-8dfa-4f8b-a5c1-35bd24c441c1",
        "colab": {
          "base_uri": "https://localhost:8080/",
          "height": 34
        }
      },
      "source": [
        " history = model.fit(names,gender, epochs=1, verbose=1,callbacks = [myCallBack()])"
      ],
      "execution_count": 264,
      "outputs": [
        {
          "output_type": "stream",
          "text": [
            "143/143 [==============================] - 6s 43ms/step - loss: 0.3123 - accuracy: 0.8755\n"
          ],
          "name": "stdout"
        }
      ]
    },
    {
      "cell_type": "code",
      "metadata": {
        "id": "KiLIIfWtv1xC",
        "colab_type": "code",
        "colab": {}
      },
      "source": [
        "def predictor(name,model):\n",
        "  name = name.lower()\n",
        "  num = np.zeros((20,))\n",
        "  j=0\n",
        "  for i in name:\n",
        "    num[j]=float(char_to_index[i])\n",
        "    j+=1\n",
        "  num = np.array([num])\n",
        "  prediction = model.predict(num)[0][0]\n",
        "  if(prediction>0.5):\n",
        "    return prediction,\"Male\"\n",
        "  else:\n",
        "    return prediction,\"Female\""
      ],
      "execution_count": 0,
      "outputs": []
    },
    {
      "cell_type": "code",
      "metadata": {
        "id": "pckXZc-5ES8C",
        "colab_type": "code",
        "colab": {
          "base_uri": "https://localhost:8080/",
          "height": 347
        },
        "outputId": "482911ec-90bf-4df6-d97f-b727435a8269"
      },
      "source": [
        "names = ['dhananjay','arjun','draupadi','ram','agrim','avinash','avrendra','singh','kalyan','sakshi','shivani','om','jesicca','aayushi','satyam','sourav','parth','shahsank','anshita']\n",
        "for name in names:\n",
        "  predict,gender = predictor(name,model)\n",
        "  print(name.capitalize(),\"is a\",gender,\"name.\",end=\" | \")\n",
        "  print(\"Prediction:\",predict)"
      ],
      "execution_count": 266,
      "outputs": [
        {
          "output_type": "stream",
          "text": [
            "Dhananjay is a Male name. | Prediction: 0.9776522\n",
            "Arjun is a Male name. | Prediction: 0.89475805\n",
            "Draupadi is a Female name. | Prediction: 0.23869807\n",
            "Ram is a Male name. | Prediction: 0.59603786\n",
            "Agrim is a Male name. | Prediction: 0.71566623\n",
            "Avinash is a Male name. | Prediction: 0.9771086\n",
            "Avrendra is a Male name. | Prediction: 0.6391624\n",
            "Singh is a Male name. | Prediction: 0.92226225\n",
            "Kalyan is a Male name. | Prediction: 0.93914896\n",
            "Sakshi is a Female name. | Prediction: 0.16921379\n",
            "Shivani is a Female name. | Prediction: 0.14564557\n",
            "Om is a Female name. | Prediction: 0.47480136\n",
            "Jesicca is a Female name. | Prediction: 0.16330224\n",
            "Aayushi is a Female name. | Prediction: 0.11247914\n",
            "Satyam is a Male name. | Prediction: 0.9152415\n",
            "Sourav is a Male name. | Prediction: 0.9678315\n",
            "Parth is a Male name. | Prediction: 0.8876379\n",
            "Shahsank is a Male name. | Prediction: 0.9768901\n",
            "Anshita is a Female name. | Prediction: 0.14064\n"
          ],
          "name": "stdout"
        }
      ]
    },
    {
      "cell_type": "code",
      "metadata": {
        "id": "85jLdWXfjALm",
        "colab_type": "code",
        "colab": {}
      },
      "source": [
        ""
      ],
      "execution_count": 0,
      "outputs": []
    }
  ]
}
